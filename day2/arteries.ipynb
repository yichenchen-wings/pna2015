{
 "cells": [
  {
   "cell_type": "code",
   "execution_count": null,
   "metadata": {},
   "outputs": [],
   "source": [
    "# Compatibility with Python 3\n",
    "from __future__ import print_function  # print('me') instead of print 'me'\n",
    "from __future__ import division  # 1/2 == 0.5, not 0"
   ]
  },
  {
   "cell_type": "code",
   "execution_count": null,
   "metadata": {},
   "outputs": [],
   "source": [
    "# Show figures inside the notebook\n",
    "%matplotlib inline"
   ]
  },
  {
   "cell_type": "code",
   "execution_count": null,
   "metadata": {},
   "outputs": [],
   "source": [
    "import numpy as np  # Python array library\n",
    "import matplotlib.pyplot as plt  # Python plotting library"
   ]
  },
  {
   "cell_type": "markdown",
   "metadata": {},
   "source": [
    "The major arteries in a T1 MRI image often have high signal (white when displaying in grayscale).\n",
    "\n",
    "Our task is to see if we can pick out the courses of the [vertebral, basilar](http://en.wikipedia.org/wiki/Vertebral_artery#mediaviewer/File:Vertebral_artery_3D_AP.jpg) and [carotid](http://en.wikipedia.org/wiki/Internal_carotid_artery#mediaviewer/File:Magnetic_resonance_angiogram_of_segments_of_the_internal_carotid_artery.jpg) arteries on this image."
   ]
  },
  {
   "cell_type": "markdown",
   "metadata": {},
   "source": [
    "This time we are going to load an image using the `nibabel` library.  The image is `ds107_sub001_highres.nii` in the same directory as this notebook."
   ]
  },
  {
   "cell_type": "code",
   "execution_count": null,
   "metadata": {},
   "outputs": [],
   "source": [
    "import nibabel as nib"
   ]
  },
  {
   "cell_type": "markdown",
   "metadata": {},
   "source": [
    "Try loading the image using nibabel, to make an image object. Use tab completion on `nib.` or look at the the [day0 introduction notebook](http://nbviewer.ipython.org/github/practical-neuroimaging/pna2015/blob/master/day0/what_is_an_image.ipynb) to work out how to do this."
   ]
  },
  {
   "cell_type": "code",
   "execution_count": null,
   "metadata": {},
   "outputs": [],
   "source": [
    "# img = ?\n",
    "img = nib.load(filename='ds107_sub001_highres.nii')"
   ]
  },
  {
   "cell_type": "markdown",
   "metadata": {},
   "source": [
    "Now get the image array data from the nibabel image object.  Don't forget to use tab completion on the image object if you can remember or don't know the methods of the object."
   ]
  },
  {
   "cell_type": "code",
   "execution_count": null,
   "metadata": {},
   "outputs": [],
   "source": [
    "# data = ?\n",
    "data = img.dataobj"
   ]
  },
  {
   "cell_type": "code",
   "execution_count": null,
   "metadata": {},
   "outputs": [],
   "source": [
    "data.shape"
   ]
  },
  {
   "cell_type": "markdown",
   "metadata": {},
   "source": [
    "Try plotting a few slices over the third dimension to see whether you can see the arteries.  For example, to plot the first slice over the third dimension, you might use:\n",
    "\n",
    "`plt.imshow(data[:, :, 0], cmap='gray')`\n",
    "\n",
    "\n",
    "where `data` is your image array data."
   ]
  },
  {
   "cell_type": "code",
   "execution_count": null,
   "metadata": {},
   "outputs": [],
   "source": [
    "# Plotting some slices over the third dimension\n",
    "fig, axes = plt.subplots(2,3, figsize=(12, 8))\n",
    "axes = axes.flatten()\n",
    "for i in range(6):\n",
    "    axes[i].imshow(data[:,:,i*30], cmap='gray')"
   ]
  },
  {
   "cell_type": "markdown",
   "metadata": {},
   "source": [
    "Now try looking for a good threshold so that you pick up only the very high signal in the brain.  A good place to start is to use ``plt.hist`` to get an idea of the spread of values within the volume and within the slice."
   ]
  },
  {
   "cell_type": "code",
   "execution_count": null,
   "metadata": {},
   "outputs": [],
   "source": [
    "# Zoom in on artery:\n",
    "plt.imshow(data[75:125,100:150,60])"
   ]
  },
  {
   "cell_type": "code",
   "execution_count": null,
   "metadata": {},
   "outputs": [],
   "source": [
    "# Here you might try plt.hist or something else to find a threshold\n",
    "plt.hist(data[75:125,100:150,60].flatten(), bins=100)\n",
    "plt.show()"
   ]
  },
  {
   "cell_type": "code",
   "execution_count": null,
   "metadata": {},
   "outputs": [],
   "source": [
    "# Binarize using a threshold\n",
    "artery_thresh = 325\n",
    "plt.imshow(data[75:125,100:150,60] > artery_thresh)"
   ]
  },
  {
   "cell_type": "markdown",
   "metadata": {},
   "source": [
    "Try making a binarized image with your threshold and displaying slices with that.  What structures are you picking up?"
   ]
  },
  {
   "cell_type": "code",
   "execution_count": null,
   "metadata": {},
   "outputs": [],
   "source": [
    "# Maybe display some slices from the data binarized with a threshold\n",
    "# Plotting some slices over the third dimension\n",
    "fig, axes = plt.subplots(6,2, figsize=(8, 24))\n",
    "center_volume = data[80:170,80:170, :]\n",
    "for i in range(6):\n",
    "    axes[i, 0].imshow(center_volume[:,:,i*30], cmap='gray')\n",
    "    axes[i, 1].imshow(center_volume[:,:,i*30] > artery_thresh, cmap='gray')"
   ]
  },
  {
   "cell_type": "markdown",
   "metadata": {},
   "source": [
    "Now try taking a 3D subvolume out of the middle of the image (the approximate middle in all three axes) to pick out a good subvolume of the image that still contains the big arteries."
   ]
  },
  {
   "cell_type": "code",
   "execution_count": null,
   "metadata": {},
   "outputs": [],
   "source": [
    "# Create a smaller 3D subvolume from the image data that still contains the arteries\n",
    "center_volume_artery_slice_idx = [\n",
    "    i for i in range(center_volume.shape[-1]) if np.sum(center_volume[:,:,i] > artery_thresh)\n",
    "]\n",
    "center_volume_artery_vol = center_volume[:, :, center_volume_artery_slice_idx]"
   ]
  },
  {
   "cell_type": "code",
   "execution_count": null,
   "metadata": {},
   "outputs": [],
   "source": [
    "where_slice_break = np.where(np.diff(center_volume_artery_slice_idx) != 1)[0][0]"
   ]
  },
  {
   "cell_type": "markdown",
   "metadata": {},
   "source": [
    "Try binarizing that with some thresholds to see whether you can pick out the arteries without much other stuff.  Hint - you might consider using `np.percentile` or `plt.hist` to find a good threshold."
   ]
  },
  {
   "cell_type": "code",
   "execution_count": null,
   "metadata": {},
   "outputs": [],
   "source": [
    "# Try a few plots of binarized slices and other stuff to find a good threshold\n",
    "fig, axes = plt.subplots(6,2, figsize=(8, 24))\n",
    "for ax_i, i in enumerate(range(0, where_slice_break, int(where_slice_break/6))):\n",
    "    if ax_i < 6:\n",
    "        axes[ax_i, 0].imshow(center_volume_artery_vol[:,:,i], cmap='gray')\n",
    "        axes[ax_i, 1].imshow(center_volume_artery_vol[:,:,i] > artery_thresh, cmap='gray')"
   ]
  },
  {
   "cell_type": "code",
   "execution_count": null,
   "metadata": {},
   "outputs": [],
   "source": [
    "center_volume_artery_vol_binary  = center_volume_artery_vol > artery_thresh"
   ]
  },
  {
   "cell_type": "markdown",
   "metadata": {},
   "source": [
    "If you have a good threshold and a good binarized subset, see if you can see the arterial structure using the fancy function to plot the binarized image with a 3D rendering."
   ]
  },
  {
   "cell_type": "code",
   "execution_count": null,
   "metadata": {},
   "outputs": [],
   "source": [
    "# This function uses matplotlib 3D plotting and sckit-image for rendering\n",
    "from mpl_toolkits.mplot3d.art3d import Poly3DCollection\n",
    "from skimage import measure\n",
    "\n",
    "def binarized_surface(binary_array):\n",
    "    \"\"\" Do a 3D plot of the surfaces in a binarized image\n",
    "    \n",
    "    This uses scikit-image and some fancy commands that we don't\n",
    "    need to worry about at the moment, to do the plot.\n",
    "    \"\"\"\n",
    "    verts, faces = measure.marching_cubes_classic(binary_array, 0)\n",
    "    fig = plt.figure(figsize=(10, 12))\n",
    "    ax = fig.add_subplot(111, projection='3d')\n",
    "\n",
    "    # Fancy indexing: `verts[faces]` to generate a collection of triangles\n",
    "    mesh = Poly3DCollection(verts[faces], linewidths=0, alpha=0.3)\n",
    "    mesh.set_edgecolor('k')\n",
    "    ax.add_collection3d(mesh)\n",
    "    ax.set_xlim(0, binary_array.shape[0])\n",
    "    ax.set_ylim(0, binary_array.shape[1])\n",
    "    ax.set_zlim(0, binary_array.shape[2])"
   ]
  },
  {
   "cell_type": "code",
   "execution_count": null,
   "metadata": {},
   "outputs": [],
   "source": [
    "binarized_surface(binary_array=center_volume_artery_vol_binary)"
   ]
  },
  {
   "cell_type": "code",
   "execution_count": null,
   "metadata": {},
   "outputs": [],
   "source": [
    "! pip install plotly"
   ]
  },
  {
   "cell_type": "code",
   "execution_count": null,
   "metadata": {},
   "outputs": [],
   "source": [
    "# Use plotly to produce an interactive 3d plot\n",
    "# NOTE: on VMware + Unbutu 18 on OSX, the resulting 3d plot can not be 'opened'. \n",
    "# openinbg the plot would lead to system crash.\n",
    "\n",
    "from plotly.offline import init_notebook_mode, iplot\n",
    "import plotly.graph_objs as go\n",
    "import plotly.figure_factory as ff\n",
    "\n",
    "def binarized_surface(binary_array):\n",
    "    \"\"\" Do a 3D plot of the surfaces in a binarized image\n",
    "    \n",
    "    This uses scikit-image and some fancy commands that we don't\n",
    "    need to worry about at the moment, to do the plot.\n",
    "    \"\"\"\n",
    "    verts, faces = measure.marching_cubes_classic(binary_array, 0)\n",
    "    x,y,z = zip(*verts)\n",
    "    colormap=['rgb(255,105,180)','rgb(255,255,51)','rgb(0,191,255)']\n",
    "    fig = ff.create_trisurf(x=x,\n",
    "                            y=y, \n",
    "                            z=z, \n",
    "                            plot_edges=False,\n",
    "                            colormap=colormap,\n",
    "                            simplices=faces,\n",
    "                            title=\"Isosurface\")\n",
    "    plot(fig, filname='artery_3d.html')"
   ]
  },
  {
   "cell_type": "markdown",
   "metadata": {},
   "source": [
    "For example, let's say you have a binarized subvolume of the original data called ``binarized_subvolume``.  You could do a 3D rendering of this binary image with:\n",
    "\n",
    "`binarized_surface(binarized_subvolume)`"
   ]
  },
  {
   "cell_type": "code",
   "execution_count": null,
   "metadata": {},
   "outputs": [],
   "source": [
    "# binarized_surface(binarized_subvolume)\n",
    "binarized_surface(binary_array=center_volume_artery_vol_binary)"
   ]
  },
  {
   "cell_type": "code",
   "execution_count": null,
   "metadata": {},
   "outputs": [],
   "source": []
  }
 ],
 "metadata": {
  "kernelspec": {
   "display_name": "Python 3",
   "language": "python",
   "name": "python3"
  },
  "language_info": {
   "codemirror_mode": {
    "name": "ipython",
    "version": 3
   },
   "file_extension": ".py",
   "mimetype": "text/x-python",
   "name": "python",
   "nbconvert_exporter": "python",
   "pygments_lexer": "ipython3",
   "version": "3.6.3"
  }
 },
 "nbformat": 4,
 "nbformat_minor": 1
}
