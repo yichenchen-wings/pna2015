{
 "cells": [
  {
   "cell_type": "code",
   "execution_count": null,
   "metadata": {},
   "outputs": [],
   "source": [
    "# Compatibility with Python 3\n",
    "from __future__ import print_function  # print('me') instead of print 'me'\n",
    "from __future__ import division  # 1/2 = 0.5, not 0"
   ]
  },
  {
   "cell_type": "code",
   "execution_count": null,
   "metadata": {},
   "outputs": [],
   "source": [
    "import numpy as np"
   ]
  },
  {
   "cell_type": "code",
   "execution_count": null,
   "metadata": {},
   "outputs": [],
   "source": [
    "# Show figures inside the notebook\n",
    "%matplotlib inline"
   ]
  },
  {
   "cell_type": "code",
   "execution_count": null,
   "metadata": {},
   "outputs": [],
   "source": [
    "import numpy as np\n",
    "import matplotlib.pyplot as plt"
   ]
  },
  {
   "cell_type": "markdown",
   "metadata": {},
   "source": [
    "Now we will work with a 3D brain image.\n",
    "\n",
    "Like the camera image in [the camera notebook](camera.ipynb), the pixel data for the 3D image is in a text file called `anatomical.txt`.  I happen to know this image has is length 32 on the third dimension, but I don't know what the size of the first two dimensions are.\n",
    "\n",
    "So, I know the image is of shape (`I`, `J`, 32), but I don't know what `I` and `J` are.\n",
    "\n",
    "Here are the first four lines of `anatomical.txt`. \n",
    "\n",
    "```\n",
    "0.0000\n",
    "0.0000\n",
    "0.0000\n",
    "0.0000\n",
    "```\n",
    "\n",
    "So the data is in the same floating point text format as the camera picture pixel data.\n",
    "\n",
    "Real all the lines of the file into a list of float values, as before."
   ]
  },
  {
   "cell_type": "code",
   "execution_count": null,
   "metadata": {},
   "outputs": [],
   "source": [
    "K = 32"
   ]
  },
  {
   "cell_type": "code",
   "execution_count": null,
   "metadata": {},
   "outputs": [],
   "source": [
    "with open('./anatomical.txt') as file:\n",
    "    all_lines = file.read().split('\\n')"
   ]
  },
  {
   "cell_type": "code",
   "execution_count": null,
   "metadata": {},
   "outputs": [],
   "source": [
    "all_lines = np.array([eval(i) for i in all_lines if i])"
   ]
  },
  {
   "cell_type": "markdown",
   "metadata": {},
   "source": [
    "How many pixel values does this file contain?"
   ]
  },
  {
   "cell_type": "code",
   "execution_count": null,
   "metadata": {},
   "outputs": [],
   "source": [
    "n_lines = len(all_lines)\n",
    "n_lines"
   ]
  },
  {
   "cell_type": "markdown",
   "metadata": {},
   "source": [
    "When I have my image array correctly shaped, then, if I take a slice over the third dimension:\n",
    "\n",
    "```\n",
    "slice_on_third = image_array[:, :, 0]\n",
    "```\n",
    "\n",
    "`slice_on_third` will be shape `(I, J)` (the size of the first two dimensions).\n",
    "\n",
    "\n",
    "So, how many pixel values does a slice in the third dimension contain - given that we know the third dimension is length 32?  Put another way, what is the value for `I * J`?"
   ]
  },
  {
   "cell_type": "code",
   "execution_count": null,
   "metadata": {},
   "outputs": [],
   "source": [
    "# Find the size of a slice over the third dimension\n",
    "# P = ?\n",
    "P = n_lines/K\n",
    "P"
   ]
  },
  {
   "cell_type": "markdown",
   "metadata": {},
   "source": [
    "Call `P` the number of values per slice on the third dimension (so `P == I * J` where we don't yet know `I` or `J`).\n",
    "\n",
    "Is this slice over the third dimension square (does `I == J`)? No... `P**0.5` doesn't give integer\n",
    "\n",
    "We need to find the values for `I` and `J`.\n",
    "\n",
    "Find candidates for `I` by using the modulus operator (`%`) to find a few numbers between 120 and 200 that divide exactly into the slice size `P`.  Hint: the first value will be 120."
   ]
  },
  {
   "cell_type": "code",
   "execution_count": null,
   "metadata": {},
   "outputs": [],
   "source": [
    "divisibles_120_to_200 = []\n",
    "for i in np.linspace(start=120,stop=200,num=(200 - 120) + 1, endpoint=True):\n",
    "    if not P % i:\n",
    "        divisibles_120_to_200.append(i)"
   ]
  },
  {
   "cell_type": "code",
   "execution_count": null,
   "metadata": {},
   "outputs": [],
   "source": [
    "divisibles_120_to_200"
   ]
  },
  {
   "cell_type": "markdown",
   "metadata": {},
   "source": [
    "These numbers are candidates for `I` - the first number in the pair `(I, J)`.  We now need to find the corresponding `J` for each candidate for `I`.\n",
    "\n",
    "Use the integer division operator (`//`) to get a list of pairs of numbers `I` and `J` such that `I * J == P`.  Hint: the first pair of `I, J` is (120, 221)."
   ]
  },
  {
   "cell_type": "code",
   "execution_count": null,
   "metadata": {},
   "outputs": [],
   "source": [
    "I_J_pairs = [(i, P/i) for i in divisibles_120_to_200]"
   ]
  },
  {
   "cell_type": "code",
   "execution_count": null,
   "metadata": {},
   "outputs": [],
   "source": [
    "I_J_pairs"
   ]
  },
  {
   "cell_type": "markdown",
   "metadata": {},
   "source": [
    "The full image shape will be three values, with one of these `(I, J)` pairs followed by 32.  For example, the correct shape might be (120, 221 , 32) (it isn't!).  Try reshaping the pixel data with a few of the `(I, J, 32)` candidates to see which one is likely to be right.  You might want to plot a slice over the third dimension to see how it looks."
   ]
  },
  {
   "cell_type": "code",
   "execution_count": null,
   "metadata": {},
   "outputs": [],
   "source": [
    "from matplotlib import pyplot "
   ]
  },
  {
   "cell_type": "code",
   "execution_count": null,
   "metadata": {},
   "outputs": [],
   "source": [
    "for I,J in I_J_pairs:\n",
    "    fig, ax = pyplot.subplots(1,1, figsize=(6,6))\n",
    "    ax.imshow(all_lines.reshape((int(I),int(J),int(K)))[:,:,20])\n",
    "    ax.set_title('I:{}, J:{}, K:{}'.format(I,J,K))"
   ]
  },
  {
   "cell_type": "markdown",
   "metadata": {},
   "source": [
    "I: 170, J:156, K:32"
   ]
  }
 ],
 "metadata": {
  "kernelspec": {
   "display_name": "Python 3",
   "language": "python",
   "name": "python3"
  },
  "language_info": {
   "codemirror_mode": {
    "name": "ipython",
    "version": 3
   },
   "file_extension": ".py",
   "mimetype": "text/x-python",
   "name": "python",
   "nbconvert_exporter": "python",
   "pygments_lexer": "ipython3",
   "version": "3.6.3"
  }
 },
 "nbformat": 4,
 "nbformat_minor": 1
}
